{
 "cells": [
  {
   "cell_type": "code",
   "execution_count": 1,
   "metadata": {},
   "outputs": [],
   "source": [
    "import pandas as pd\n",
    "import numpy as np\n",
    "import matplotlib.pyplot as plt\n",
    "import seaborn as sns\n",
    "import datetime as dt"
   ]
  },
  {
   "cell_type": "code",
   "execution_count": 2,
   "metadata": {},
   "outputs": [],
   "source": [
    "markets_df = pd.read_csv('/Users/catherinefuller/galvanize/daimil10/projects/Mid_Term/Myanmar_Food/data/wfp_food_prices_mmr 2.csv')"
   ]
  },
  {
   "cell_type": "code",
   "execution_count": 4,
   "metadata": {},
   "outputs": [],
   "source": [
    "#Remove first row\n",
    "markets_df.drop(index=markets_df.index[0], axis=0, inplace=True)"
   ]
  },
  {
   "cell_type": "code",
   "execution_count": 40,
   "metadata": {},
   "outputs": [
    {
     "data": {
      "text/plain": [
       "admin1\n",
       "Rakhine         7687\n",
       "Shan (North)    7539\n",
       "Kachin          5614\n",
       "Chin            3440\n",
       "Magway          2693\n",
       "Yangon          1434\n",
       "Sagaing         1301\n",
       "Shan (South)    1088\n",
       "Mon              842\n",
       "Mandalay         823\n",
       "Kayin            727\n",
       "Tanintharyi      564\n",
       "Kayah            271\n",
       "Shan (East)      172\n",
       "Name: count, dtype: int64"
      ]
     },
     "execution_count": 40,
     "metadata": {},
     "output_type": "execute_result"
    }
   ],
   "source": [
    "markets_df.tail()\n",
    "markets_df.value_counts('admin1')\n"
   ]
  },
  {
   "cell_type": "code",
   "execution_count": 7,
   "metadata": {},
   "outputs": [
    {
     "data": {
      "text/plain": [
       "market\n",
       "Lashio Market            796\n",
       "Buthidaung               594\n",
       "Manton                   567\n",
       "Momauk                   564\n",
       "Pakokku Myo Ma Market    560\n",
       "                        ... \n",
       "Kan Htaunt Camp            5\n",
       "Kawt Dut                   5\n",
       "Thet Yet Pin Chaung        5\n",
       "88 ward                    5\n",
       "Jaw Masat                  1\n",
       "Name: count, Length: 231, dtype: int64"
      ]
     },
     "execution_count": 7,
     "metadata": {},
     "output_type": "execute_result"
    }
   ],
   "source": [
    "markets_df.value_counts('market')"
   ]
  },
  {
   "cell_type": "code",
   "execution_count": 8,
   "metadata": {},
   "outputs": [
    {
     "data": {
      "text/plain": [
       "156"
      ]
     },
     "execution_count": 8,
     "metadata": {},
     "output_type": "execute_result"
    }
   ],
   "source": [
    "#Find out over how many months data was collected\n",
    "y = 13\n",
    "m = 12\n",
    "y * m"
   ]
  },
  {
   "cell_type": "code",
   "execution_count": 31,
   "metadata": {},
   "outputs": [],
   "source": [
    "#Clean Data- Convert time to Datetime\n",
    "\n",
    "markets_df['date'] = pd.to_datetime(markets_df['date'])"
   ]
  },
  {
   "cell_type": "code",
   "execution_count": 32,
   "metadata": {},
   "outputs": [],
   "source": [
    "#Clean Date - Convert the price columns to float\n",
    "markets_df['price'] = markets_df['price'].astype(float).round(2)\n",
    "markets_df['usdprice'] = markets_df['usdprice'].astype(float).round(2)"
   ]
  },
  {
   "cell_type": "code",
   "execution_count": 44,
   "metadata": {},
   "outputs": [
    {
     "data": {
      "text/html": [
       "<div>\n",
       "<style scoped>\n",
       "    .dataframe tbody tr th:only-of-type {\n",
       "        vertical-align: middle;\n",
       "    }\n",
       "\n",
       "    .dataframe tbody tr th {\n",
       "        vertical-align: top;\n",
       "    }\n",
       "\n",
       "    .dataframe thead th {\n",
       "        text-align: right;\n",
       "    }\n",
       "</style>\n",
       "<table border=\"1\" class=\"dataframe\">\n",
       "  <thead>\n",
       "    <tr style=\"text-align: right;\">\n",
       "      <th></th>\n",
       "      <th>date</th>\n",
       "      <th>region</th>\n",
       "      <th>subregion</th>\n",
       "      <th>market</th>\n",
       "      <th>latitude</th>\n",
       "      <th>longitude</th>\n",
       "      <th>category</th>\n",
       "      <th>commodity</th>\n",
       "      <th>unit</th>\n",
       "      <th>priceflag</th>\n",
       "      <th>pricetype</th>\n",
       "      <th>currency</th>\n",
       "      <th>price</th>\n",
       "      <th>usdprice</th>\n",
       "      <th>region</th>\n",
       "      <th>sub_region</th>\n",
       "    </tr>\n",
       "  </thead>\n",
       "  <tbody>\n",
       "    <tr>\n",
       "      <th>1</th>\n",
       "      <td>2008-01-15</td>\n",
       "      <td>Kachin</td>\n",
       "      <td>Myitkyina</td>\n",
       "      <td>Wai Maw</td>\n",
       "      <td>25.34222</td>\n",
       "      <td>97.44001</td>\n",
       "      <td>cereals and tubers</td>\n",
       "      <td>Rice (low quality)</td>\n",
       "      <td>KG</td>\n",
       "      <td>actual</td>\n",
       "      <td>Retail</td>\n",
       "      <td>MMK</td>\n",
       "      <td>400.00</td>\n",
       "      <td>63.08</td>\n",
       "      <td>Kachin</td>\n",
       "      <td>Myitkyina</td>\n",
       "    </tr>\n",
       "    <tr>\n",
       "      <th>2</th>\n",
       "      <td>2008-01-15</td>\n",
       "      <td>Kachin</td>\n",
       "      <td>Myitkyina</td>\n",
       "      <td>Wai Maw</td>\n",
       "      <td>25.34222</td>\n",
       "      <td>97.44001</td>\n",
       "      <td>meat, fish and eggs</td>\n",
       "      <td>Meat (chicken)</td>\n",
       "      <td>KG</td>\n",
       "      <td>actual</td>\n",
       "      <td>Retail</td>\n",
       "      <td>MMK</td>\n",
       "      <td>3636.36</td>\n",
       "      <td>573.44</td>\n",
       "      <td>Kachin</td>\n",
       "      <td>Myitkyina</td>\n",
       "    </tr>\n",
       "    <tr>\n",
       "      <th>3</th>\n",
       "      <td>2008-01-15</td>\n",
       "      <td>Kachin</td>\n",
       "      <td>Myitkyina</td>\n",
       "      <td>Wai Maw</td>\n",
       "      <td>25.34222</td>\n",
       "      <td>97.44001</td>\n",
       "      <td>meat, fish and eggs</td>\n",
       "      <td>Meat (pork)</td>\n",
       "      <td>KG</td>\n",
       "      <td>actual</td>\n",
       "      <td>Retail</td>\n",
       "      <td>MMK</td>\n",
       "      <td>3636.36</td>\n",
       "      <td>573.44</td>\n",
       "      <td>Kachin</td>\n",
       "      <td>Myitkyina</td>\n",
       "    </tr>\n",
       "    <tr>\n",
       "      <th>4</th>\n",
       "      <td>2008-01-15</td>\n",
       "      <td>Kachin</td>\n",
       "      <td>Myitkyina</td>\n",
       "      <td>Wai Maw</td>\n",
       "      <td>25.34222</td>\n",
       "      <td>97.44001</td>\n",
       "      <td>vegetables and fruits</td>\n",
       "      <td>Onions</td>\n",
       "      <td>KG</td>\n",
       "      <td>actual</td>\n",
       "      <td>Retail</td>\n",
       "      <td>MMK</td>\n",
       "      <td>969.70</td>\n",
       "      <td>152.92</td>\n",
       "      <td>Kachin</td>\n",
       "      <td>Myitkyina</td>\n",
       "    </tr>\n",
       "    <tr>\n",
       "      <th>5</th>\n",
       "      <td>2008-01-15</td>\n",
       "      <td>Kachin</td>\n",
       "      <td>Myitkyina</td>\n",
       "      <td>Wai Maw</td>\n",
       "      <td>25.34222</td>\n",
       "      <td>97.44001</td>\n",
       "      <td>vegetables and fruits</td>\n",
       "      <td>Tomatoes</td>\n",
       "      <td>KG</td>\n",
       "      <td>actual</td>\n",
       "      <td>Retail</td>\n",
       "      <td>MMK</td>\n",
       "      <td>484.85</td>\n",
       "      <td>76.46</td>\n",
       "      <td>Kachin</td>\n",
       "      <td>Myitkyina</td>\n",
       "    </tr>\n",
       "  </tbody>\n",
       "</table>\n",
       "</div>"
      ],
      "text/plain": [
       "        date  region  subregion   market  latitude longitude  \\\n",
       "1 2008-01-15  Kachin  Myitkyina  Wai Maw  25.34222  97.44001   \n",
       "2 2008-01-15  Kachin  Myitkyina  Wai Maw  25.34222  97.44001   \n",
       "3 2008-01-15  Kachin  Myitkyina  Wai Maw  25.34222  97.44001   \n",
       "4 2008-01-15  Kachin  Myitkyina  Wai Maw  25.34222  97.44001   \n",
       "5 2008-01-15  Kachin  Myitkyina  Wai Maw  25.34222  97.44001   \n",
       "\n",
       "                category           commodity unit priceflag pricetype  \\\n",
       "1     cereals and tubers  Rice (low quality)   KG    actual    Retail   \n",
       "2    meat, fish and eggs      Meat (chicken)   KG    actual    Retail   \n",
       "3    meat, fish and eggs         Meat (pork)   KG    actual    Retail   \n",
       "4  vegetables and fruits              Onions   KG    actual    Retail   \n",
       "5  vegetables and fruits            Tomatoes   KG    actual    Retail   \n",
       "\n",
       "  currency    price  usdprice  region sub_region  \n",
       "1      MMK   400.00     63.08  Kachin  Myitkyina  \n",
       "2      MMK  3636.36    573.44  Kachin  Myitkyina  \n",
       "3      MMK  3636.36    573.44  Kachin  Myitkyina  \n",
       "4      MMK   969.70    152.92  Kachin  Myitkyina  \n",
       "5      MMK   484.85     76.46  Kachin  Myitkyina  "
      ]
     },
     "execution_count": 44,
     "metadata": {},
     "output_type": "execute_result"
    }
   ],
   "source": [
    "markets_df.rename(columns = {'admin1':'region', 'admin2':'subregion'}, inplace = True)\n",
    "markets_df.head()"
   ]
  },
  {
   "cell_type": "code",
   "execution_count": 45,
   "metadata": {},
   "outputs": [
    {
     "data": {
      "text/html": [
       "<div>\n",
       "<style scoped>\n",
       "    .dataframe tbody tr th:only-of-type {\n",
       "        vertical-align: middle;\n",
       "    }\n",
       "\n",
       "    .dataframe tbody tr th {\n",
       "        vertical-align: top;\n",
       "    }\n",
       "\n",
       "    .dataframe thead th {\n",
       "        text-align: right;\n",
       "    }\n",
       "</style>\n",
       "<table border=\"1\" class=\"dataframe\">\n",
       "  <thead>\n",
       "    <tr style=\"text-align: right;\">\n",
       "      <th></th>\n",
       "      <th>date</th>\n",
       "      <th>region</th>\n",
       "      <th>subregion</th>\n",
       "      <th>market</th>\n",
       "      <th>latitude</th>\n",
       "      <th>longitude</th>\n",
       "      <th>category</th>\n",
       "      <th>commodity</th>\n",
       "      <th>unit</th>\n",
       "      <th>priceflag</th>\n",
       "      <th>pricetype</th>\n",
       "      <th>currency</th>\n",
       "      <th>price</th>\n",
       "      <th>usdprice</th>\n",
       "      <th>region</th>\n",
       "      <th>sub_region</th>\n",
       "    </tr>\n",
       "  </thead>\n",
       "  <tbody>\n",
       "    <tr>\n",
       "      <th>1</th>\n",
       "      <td>2008-01-15</td>\n",
       "      <td>Kachin</td>\n",
       "      <td>Myitkyina</td>\n",
       "      <td>Wai Maw</td>\n",
       "      <td>25.34222</td>\n",
       "      <td>97.44001</td>\n",
       "      <td>cereals and tubers</td>\n",
       "      <td>Rice (low quality)</td>\n",
       "      <td>KG</td>\n",
       "      <td>actual</td>\n",
       "      <td>Retail</td>\n",
       "      <td>MMK</td>\n",
       "      <td>400.00</td>\n",
       "      <td>63.08</td>\n",
       "      <td>Kachin</td>\n",
       "      <td>Myitkyina</td>\n",
       "    </tr>\n",
       "    <tr>\n",
       "      <th>2</th>\n",
       "      <td>2008-01-15</td>\n",
       "      <td>Kachin</td>\n",
       "      <td>Myitkyina</td>\n",
       "      <td>Wai Maw</td>\n",
       "      <td>25.34222</td>\n",
       "      <td>97.44001</td>\n",
       "      <td>meat, fish and eggs</td>\n",
       "      <td>Meat (chicken)</td>\n",
       "      <td>KG</td>\n",
       "      <td>actual</td>\n",
       "      <td>Retail</td>\n",
       "      <td>MMK</td>\n",
       "      <td>3636.36</td>\n",
       "      <td>573.44</td>\n",
       "      <td>Kachin</td>\n",
       "      <td>Myitkyina</td>\n",
       "    </tr>\n",
       "    <tr>\n",
       "      <th>3</th>\n",
       "      <td>2008-01-15</td>\n",
       "      <td>Kachin</td>\n",
       "      <td>Myitkyina</td>\n",
       "      <td>Wai Maw</td>\n",
       "      <td>25.34222</td>\n",
       "      <td>97.44001</td>\n",
       "      <td>meat, fish and eggs</td>\n",
       "      <td>Meat (pork)</td>\n",
       "      <td>KG</td>\n",
       "      <td>actual</td>\n",
       "      <td>Retail</td>\n",
       "      <td>MMK</td>\n",
       "      <td>3636.36</td>\n",
       "      <td>573.44</td>\n",
       "      <td>Kachin</td>\n",
       "      <td>Myitkyina</td>\n",
       "    </tr>\n",
       "    <tr>\n",
       "      <th>4</th>\n",
       "      <td>2008-01-15</td>\n",
       "      <td>Kachin</td>\n",
       "      <td>Myitkyina</td>\n",
       "      <td>Wai Maw</td>\n",
       "      <td>25.34222</td>\n",
       "      <td>97.44001</td>\n",
       "      <td>vegetables and fruits</td>\n",
       "      <td>Onions</td>\n",
       "      <td>KG</td>\n",
       "      <td>actual</td>\n",
       "      <td>Retail</td>\n",
       "      <td>MMK</td>\n",
       "      <td>969.70</td>\n",
       "      <td>152.92</td>\n",
       "      <td>Kachin</td>\n",
       "      <td>Myitkyina</td>\n",
       "    </tr>\n",
       "    <tr>\n",
       "      <th>5</th>\n",
       "      <td>2008-01-15</td>\n",
       "      <td>Kachin</td>\n",
       "      <td>Myitkyina</td>\n",
       "      <td>Wai Maw</td>\n",
       "      <td>25.34222</td>\n",
       "      <td>97.44001</td>\n",
       "      <td>vegetables and fruits</td>\n",
       "      <td>Tomatoes</td>\n",
       "      <td>KG</td>\n",
       "      <td>actual</td>\n",
       "      <td>Retail</td>\n",
       "      <td>MMK</td>\n",
       "      <td>484.85</td>\n",
       "      <td>76.46</td>\n",
       "      <td>Kachin</td>\n",
       "      <td>Myitkyina</td>\n",
       "    </tr>\n",
       "  </tbody>\n",
       "</table>\n",
       "</div>"
      ],
      "text/plain": [
       "        date  region  subregion   market  latitude longitude  \\\n",
       "1 2008-01-15  Kachin  Myitkyina  Wai Maw  25.34222  97.44001   \n",
       "2 2008-01-15  Kachin  Myitkyina  Wai Maw  25.34222  97.44001   \n",
       "3 2008-01-15  Kachin  Myitkyina  Wai Maw  25.34222  97.44001   \n",
       "4 2008-01-15  Kachin  Myitkyina  Wai Maw  25.34222  97.44001   \n",
       "5 2008-01-15  Kachin  Myitkyina  Wai Maw  25.34222  97.44001   \n",
       "\n",
       "                category           commodity unit priceflag pricetype  \\\n",
       "1     cereals and tubers  Rice (low quality)   KG    actual    Retail   \n",
       "2    meat, fish and eggs      Meat (chicken)   KG    actual    Retail   \n",
       "3    meat, fish and eggs         Meat (pork)   KG    actual    Retail   \n",
       "4  vegetables and fruits              Onions   KG    actual    Retail   \n",
       "5  vegetables and fruits            Tomatoes   KG    actual    Retail   \n",
       "\n",
       "  currency    price  usdprice  region sub_region  \n",
       "1      MMK   400.00     63.08  Kachin  Myitkyina  \n",
       "2      MMK  3636.36    573.44  Kachin  Myitkyina  \n",
       "3      MMK  3636.36    573.44  Kachin  Myitkyina  \n",
       "4      MMK   969.70    152.92  Kachin  Myitkyina  \n",
       "5      MMK   484.85     76.46  Kachin  Myitkyina  "
      ]
     },
     "execution_count": 45,
     "metadata": {},
     "output_type": "execute_result"
    }
   ],
   "source": [
    "#Filter out markets with under 150 data points\n",
    "\n",
    "#top_markets = markets_df.value_counts('market') > 149\n",
    "market_mask = markets_df['market'].value_counts()\n",
    "top_marks = markets_df[markets_df['market'].isin(market_mask.index[market_mask>150])]\n",
    "\n",
    "top_marks.head()"
   ]
  },
  {
   "cell_type": "code",
   "execution_count": 34,
   "metadata": {},
   "outputs": [
    {
     "data": {
      "text/plain": [
       "market\n",
       "Ah Nauk Pyin       242.79\n",
       "Ah Nauk Ywe        202.06\n",
       "Ahpauk Wa          182.90\n",
       "Ai Cheng           407.89\n",
       "Ba Yint Naung      164.02\n",
       "                   ...   \n",
       "Yebyu Market       186.57\n",
       "Yenanchaung      16814.05\n",
       "Ying Phan          351.42\n",
       "Zay Cho            149.70\n",
       "Zedi Pyin        19220.02\n",
       "Name: usdprice, Length: 92, dtype: float64"
      ]
     },
     "execution_count": 34,
     "metadata": {},
     "output_type": "execute_result"
    }
   ],
   "source": [
    "# market_idx = top_marks.groupby('market')['usdprice'].sum()\n",
    "# market_idx"
   ]
  },
  {
   "cell_type": "code",
   "execution_count": 93,
   "metadata": {},
   "outputs": [
    {
     "data": {
      "text/plain": [
       "market\n",
       "Long Tan          376.60\n",
       "Sadung            352.72\n",
       "Pang Kham         334.75\n",
       "Pang Yang         334.75\n",
       "Gangaw            299.14\n",
       "                   ...  \n",
       "Kan Nar             1.41\n",
       "Raldunn Market      1.27\n",
       "Laukkaing           1.04\n",
       "Bhamo               0.75\n",
       "Nam Kam             0.70\n",
       "Name: usdprice, Length: 85, dtype: float64"
      ]
     },
     "execution_count": 93,
     "metadata": {},
     "output_type": "execute_result"
    }
   ],
   "source": [
    "#Find top markets with highest commodity prices\n",
    "commodity_mark = top_marks[['market','subregion','commodity','usdprice','date']]\n",
    "\n",
    "#Let's find onions first\n",
    "#Filter the dataframe to only list onions\n",
    "top_onions = (commodity_mark['commodity'] == 'Onions') | (commodity_mark['commodity'] == 'Onions (local)')\n",
    "high_onions = commodity_mark[top_onions]\n",
    "high_onions.head(20)\n",
    "\n",
    "#Find the top unique markets that had the highest ever onion prices\n",
    "top_onion_markets = high_onions.groupby('market')['usdprice'].max().sort_values(ascending=False)\n",
    "top_onion_markets\n"
   ]
  }
 ],
 "metadata": {
  "kernelspec": {
   "display_name": "base",
   "language": "python",
   "name": "python3"
  },
  "language_info": {
   "codemirror_mode": {
    "name": "ipython",
    "version": 3
   },
   "file_extension": ".py",
   "mimetype": "text/x-python",
   "name": "python",
   "nbconvert_exporter": "python",
   "pygments_lexer": "ipython3",
   "version": "3.11.5"
  }
 },
 "nbformat": 4,
 "nbformat_minor": 2
}
